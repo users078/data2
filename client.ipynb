{
 "cells": [
  {
   "cell_type": "code",
   "execution_count": 4,
   "id": "da52f9be",
   "metadata": {},
   "outputs": [
    {
     "name": "stdout",
     "output_type": "stream",
     "text": [
      "Enter your messageLol\n"
     ]
    }
   ],
   "source": [
    "import socket\n",
    "c = socket.socket(); # This socket will act as a client\n",
    "c.connect(('localhost',9992)); # Connecting the client via the localhost to port no 9992\n",
    "\n",
    "\n",
    "msg = input(\"Enter your message\");\n",
    "c.send(bytes(msg,'UTF-8')); #  Sending a message to the server , the message has to be sent in bytes\n",
    "# so we use 'bytes()' function with 'UTF-8' encoding\n",
    "recieved = c.recv(1024).decode();\n",
    "print(recieved);\n",
    "c.close(); # Closing the connection is mandatory and important"
   ]
  },
  {
   "cell_type": "code",
   "execution_count": null,
   "id": "d012da9b",
   "metadata": {},
   "outputs": [],
   "source": []
  }
 ],
 "metadata": {
  "kernelspec": {
   "display_name": "Python 3 (ipykernel)",
   "language": "python",
   "name": "python3"
  },
  "language_info": {
   "codemirror_mode": {
    "name": "ipython",
    "version": 3
   },
   "file_extension": ".py",
   "mimetype": "text/x-python",
   "name": "python",
   "nbconvert_exporter": "python",
   "pygments_lexer": "ipython3",
   "version": "3.9.13"
  }
 },
 "nbformat": 4,
 "nbformat_minor": 5
}
