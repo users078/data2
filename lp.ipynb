{
 "cells": [
  {
   "cell_type": "code",
   "execution_count": 2,
   "id": "32e6ca16",
   "metadata": {},
   "outputs": [
    {
     "name": "stdout",
     "output_type": "stream",
     "text": [
      "{('d', 'e'), ('b', 'c')}\n",
      "{('d', 'f'), ('e', 'f')}\n",
      "{('d', 'a'), ('f', 'a'), ('e', 'a')}\n",
      "{('d', 'b'), ('c', 'a'), ('f', 'c'), ('b', 'a')}\n"
     ]
    }
   ],
   "source": [
    "from pyDatalog import pyDatalog \n",
    "pyDatalog.create_terms('a,b,c,d,e,f,brother,cousin,grandson,descendent,X,Y')\n",
    "+brother('b','c')\n",
    "+brother('d','e')\n",
    "+cousin('d','f')\n",
    "+cousin('e','f')\n",
    "+grandson('d','a')\n",
    "+grandson('e','a')\n",
    "+grandson('f','a')\n",
    "+descendent('b','a')\n",
    "+descendent('c','a')\n",
    "+descendent('d','b')\n",
    "+descendent('f','c') \n",
    "print(pyDatalog.ask('brother(X,Y)')) \n",
    "print(pyDatalog.ask('cousin(X,Y)')) \n",
    "print(pyDatalog.ask('grandson(X,Y)')) \n",
    "print(pyDatalog.ask('descendent(X,Y)'))"
   ]
  },
  {
   "cell_type": "code",
   "execution_count": 3,
   "id": "f8f6fd95",
   "metadata": {},
   "outputs": [
    {
     "name": "stdout",
     "output_type": "stream",
     "text": [
      "X       \n",
      "--------\n",
      "bear    \n",
      "elephant X  \n",
      "---\n",
      "cat\n"
     ]
    }
   ],
   "source": [
    "pyDatalog.create_terms('X,Y,Z,bear,elephant,cat,small,big,brown,black,gray,dark')\n",
    "+big('elephant')\n",
    "+big('bear')\n",
    "+small('cat')\n",
    "+black('cat')\n",
    "+brown('bear')\n",
    "+gray('elephant') \n",
    "dark(X)<=black(X) or brown(X) \n",
    "print(big(X),dark(X)) "
   ]
  },
  {
   "cell_type": "code",
   "execution_count": 6,
   "id": "f06fca3f",
   "metadata": {},
   "outputs": [
    {
     "name": "stdout",
     "output_type": "stream",
     "text": [
      "X  | Y    \n",
      "---|------\n",
      "80 | shyam\n",
      "70 | carol\n",
      "85 | priya\n",
      "45 | raju \n",
      "90 | ram  \n",
      "X    \n",
      "-----\n",
      "shyam\n",
      "X \n",
      "--\n",
      "85\n",
      "X   \n",
      "----\n",
      "raju\n",
      "90 ram\n",
      "85 priya\n",
      "80 shyam\n",
      "70 carol\n",
      "45 raju\n",
      "shyam\n",
      "85\n",
      "raju\n",
      "ram 0\n",
      "priya A\n",
      "shyam A\n",
      "carol B\n",
      "raju E\n"
     ]
    }
   ],
   "source": [
    "from pyDatalog import pyDatalog \n",
    "pyDatalog.create_terms('X,Y,Z,student,marks,passm,grades')\n",
    "+student('ram')\n",
    "+student('raju')\n",
    "+student('priya')\n",
    "+student('carol')\n",
    "+student('shyam')\n",
    "+marks('90','ram')\n",
    "+marks('45','raju')\n",
    "+marks('85','priya')\n",
    "+marks('70','carol')\n",
    "+marks('80','shyam')\n",
    "+grades('ram','O')\n",
    "+grades('priya','A')\n",
    "+grades('shyam','A')\n",
    "+grades('carol','B')\n",
    "+grades('raju','E') \n",
    "print(marks(X,Y)) \n",
    "print(marks('80',X))\n",
    "print(marks(X,'priya'))\n",
    "passm(X)<=grades(X,'E') \n",
    "print(passm(X))\n",
    "\n",
    "marks={90:'ram', 85: 'priya', 80: 'shyam', 70: 'carol',45:'raju'} \n",
    "for i in marks:\n",
    "    print(i,marks[i]) \n",
    "print(marks [80]) \n",
    "for i in marks:\n",
    "    if marks[i]=='priya': \n",
    "        print(i)\n",
    "for i in marks: \n",
    "    if i<50:\n",
    "        print(marks[i]) \n",
    "for i in marks:\n",
    "    if i>=90:\n",
    "        print (marks[i], '0') \n",
    "    elif i<90 and i>=80:\n",
    "        print (marks[i], 'A') \n",
    "    elif i<80 and i>=70:\n",
    "        print(marks[i], 'B') \n",
    "    elif i<70 and i>=60:\n",
    "        print (marks[i], 'C') \n",
    "    elif i<60 and i>=50:\n",
    "        print (marks[i], 'D') \n",
    "    else:\n",
    "        print(marks[i], 'E')"
   ]
  },
  {
   "cell_type": "code",
   "execution_count": 7,
   "id": "5f53e07f",
   "metadata": {},
   "outputs": [
    {
     "name": "stdout",
     "output_type": "stream",
     "text": [
      "Enter any number:3\n",
      "N\n",
      "-\n",
      "6\n"
     ]
    }
   ],
   "source": [
    "from pyDatalog import pyDatalog \n",
    "pyDatalog.create_terms('factorial, N') \n",
    "num=int(input('Enter any number:')) \n",
    "factorial[N] = N*factorial[N-1] \n",
    "factorial[1] = 1 \n",
    "print(factorial[num]==N)\n"
   ]
  },
  {
   "cell_type": "code",
   "execution_count": null,
   "id": "e159c340",
   "metadata": {},
   "outputs": [],
   "source": []
  }
 ],
 "metadata": {
  "kernelspec": {
   "display_name": "Python 3 (ipykernel)",
   "language": "python",
   "name": "python3"
  },
  "language_info": {
   "codemirror_mode": {
    "name": "ipython",
    "version": 3
   },
   "file_extension": ".py",
   "mimetype": "text/x-python",
   "name": "python",
   "nbconvert_exporter": "python",
   "pygments_lexer": "ipython3",
   "version": "3.10.9"
  }
 },
 "nbformat": 4,
 "nbformat_minor": 5
}
