{
 "cells": [
  {
   "cell_type": "code",
   "execution_count": null,
   "id": "3d147b62",
   "metadata": {},
   "outputs": [],
   "source": [
    "#Input Field and MessageBox display\n",
    "from tkinter import *\n",
    "from tkinter import messagebox\n",
    "def hello():\n",
    "    msg = messagebox.showinfo(\"Title\",inp.get()); # To Display Mesage that will be types in the input field of 'inp'\n",
    "\n",
    "root = Tk();\n",
    "root.geometry(\"300x300\"); # For Specifying the dimnesion of the tkinter box\n",
    "root.title(\"A box\"); # For the title of the box\n",
    "root.configure(background='red') # For the background color the the box\n",
    "l1 = Label(root,text=\"Hello world\"); # For getting Label\n",
    "inp = Entry(root); # For the input field\n",
    "b1 = Button(root,text=\"Button\",command=hello) # Creates a button\n",
    "l1.grid(row=0,column=1)\n",
    "b1.grid(row=1,column=1)\n",
    "inp.grid(row=0,column=0)\n",
    "root.mainloop()"
   ]
  },
  {
   "cell_type": "code",
   "execution_count": null,
   "id": "0424fd55",
   "metadata": {},
   "outputs": [],
   "source": [
    "from tkinter import *\n",
    "from tkinter import messagebox\n",
    "top = Tk()\n",
    "C = Canvas(top, bg = \"blue\", height = 250, width = 300)\n",
    "coord = 10, 50, 240, 210\n",
    "arc = C.create_arc(coord, start = 0, extent = 150, fill = \"red\")\n",
    "line = C.create_line(10,10,200,200,fill = 'white')\n",
    "C.pack()\n",
    "top.mainloop()"
   ]
  },
  {
   "cell_type": "code",
   "execution_count": null,
   "id": "8076e60b",
   "metadata": {},
   "outputs": [],
   "source": [
    "from tkinter import *\n",
    "from tkinter import messagebox\n",
    "def hello():\n",
    "    if(var1.get() == 1): # Checking for the value of 'var1'\n",
    "        msg = messagebox.showinfo(\"Message\",\"Found\") \n",
    "root = Tk();\n",
    "root.geometry(\"300x300\");\n",
    "root.title(\"Buttons\");\n",
    "var1 = IntVar(); # Defining a variable for the checkButton or any kind of button\n",
    "r1 = Checkbutton(root,text=\"Hello\",variable=var1,onvalue=1,offvalue=0,command=hello); # CheckButton\n",
    "rb1=Radiobutton(root,text='Red', variable=var1,width=25,value=1, command=hello); # RadioButton\n",
    "scale = Scale( root, variable = var1, from_ = 1, to = 50, orient = HORIZONTAL); # Defining a scale\n",
    "spin = Spinbox(root, from_= 0, to = 25); # SpinBox \n",
    "\n",
    "# MenuBox\n",
    "menubutton = Menubutton(root, text = \"File\", relief = FLAT) \n",
    "menubutton.menu = Menu(menubutton)\n",
    "menubutton.menu.add_checkbutton(label = \"New\", variable=IntVar(),command=hello)\n",
    "menubutton.menu.add_checkbutton(label = \"File\", variable=IntVar(),command=hello)\n",
    "\n",
    "rb1.grid(row=1,column=0);\n",
    "scale.grid(row=2,column=0);\n",
    "r1.grid(row=0,column=0);\n",
    "menubutton.grid(row=3,column=3);\n",
    "root.mainloop();"
   ]
  },
  {
   "cell_type": "code",
   "execution_count": null,
   "id": "d481a049",
   "metadata": {},
   "outputs": [],
   "source": []
  }
 ],
 "metadata": {
  "kernelspec": {
   "display_name": "Python 3 (ipykernel)",
   "language": "python",
   "name": "python3"
  },
  "language_info": {
   "codemirror_mode": {
    "name": "ipython",
    "version": 3
   },
   "file_extension": ".py",
   "mimetype": "text/x-python",
   "name": "python",
   "nbconvert_exporter": "python",
   "pygments_lexer": "ipython3",
   "version": "3.9.13"
  }
 },
 "nbformat": 4,
 "nbformat_minor": 5
}
