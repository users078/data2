{
 "cells": [
  {
   "cell_type": "code",
   "execution_count": 1,
   "id": "f776ed46",
   "metadata": {},
   "outputs": [],
   "source": [
    "import sqlite3"
   ]
  },
  {
   "cell_type": "code",
   "execution_count": 45,
   "id": "373097d2",
   "metadata": {},
   "outputs": [],
   "source": [
    "conn = sqlite3.connect('customer.db');  #Connecting to the SQL-server\n",
    "c = conn.cursor(); #Creating a cursor\n",
    "\n",
    "#Creating an TABLE with name cusomters\n",
    "# To set Primary key to any of the variable use ' PRIMARY KEY (firstName) '\n",
    "c.execute(\"\"\"CREATE TABLE cusomters ( \n",
    "    firstName text,\n",
    "    lastName text,\n",
    "    email text\n",
    ")\n",
    "\n",
    "\"\"\")\n",
    "conn.commit() # Commit our changes that we made\n",
    "conn.close() # Closing the connection"
   ]
  },
  {
   "cell_type": "code",
   "execution_count": 46,
   "id": "98de9def",
   "metadata": {},
   "outputs": [],
   "source": [
    "# Inserting record into the table\n",
    "conn = sqlite3.connect('customer.db');\n",
    "c = conn.cursor();\n",
    "#Inserting a single record into the cusomters table\n",
    "c.execute(\"\"\"INSERT INTO cusomters VALUES ('Sid', 'Lo','sidbet@gmail.com')\n",
    "\"\"\")\n",
    "\n",
    "conn.commit()\n",
    "conn.close()"
   ]
  },
  {
   "cell_type": "code",
   "execution_count": 47,
   "id": "aa427273",
   "metadata": {},
   "outputs": [],
   "source": [
    "# Inserting many records into the table \n",
    "conn = sqlite3.connect('customer.db')\n",
    "c = conn.cursor();\n",
    "\n",
    "c.execute(\"\"\"INSERT INTO cusomters VALUES ('Hello','There','hello@gmail.com'),('sup','man','sup@gmail.com')\"\"\");\n",
    "\n",
    "conn.commit()\n",
    "conn.close()"
   ]
  },
  {
   "cell_type": "code",
   "execution_count": 48,
   "id": "b169ca7a",
   "metadata": {},
   "outputs": [
    {
     "name": "stdout",
     "output_type": "stream",
     "text": [
      "Sid\n",
      "[('Hello', 'There', 'hello@gmail.com'), ('sup', 'man', 'sup@gmail.com')]\n"
     ]
    }
   ],
   "source": [
    "#Querying Documents\n",
    "conn = sqlite3.connect('customer.db')\n",
    "c = conn.cursor();\n",
    "c.execute(\"\"\"SELECT * FROM cusomters\"\"\")\n",
    "print(c.fetchone()[0]) # Takes the first row from the table\n",
    "print(c.fetchall()); # Fetches all the rows and columns from the 'cusomters' table from the 'customer' database\n",
    "conn.commit();\n",
    "conn.close();"
   ]
  },
  {
   "cell_type": "code",
   "execution_count": 59,
   "id": "30693c66",
   "metadata": {},
   "outputs": [
    {
     "name": "stdout",
     "output_type": "stream",
     "text": [
      "[(1, 'Boy', 'Lo', 'sidbet@gmail.com'), (2, 'Hello', 'There', 'hello@gmail.com'), (3, 'sup', 'man', 'sup@gmail.com')]\n"
     ]
    }
   ],
   "source": [
    "#Primary key \n",
    "conn = sqlite3.connect('customer.db')\n",
    "c = conn.cursor()\n",
    "c.execute(\"\"\"SELECT rowid, * FROM cusomters\"\"\") # 'rowid' contains the primary key of each of the records\n",
    "print(c.fetchall());\n",
    "conn.commit()\n",
    "conn.close()"
   ]
  },
  {
   "cell_type": "code",
   "execution_count": 55,
   "id": "e33d815d",
   "metadata": {},
   "outputs": [
    {
     "name": "stdout",
     "output_type": "stream",
     "text": [
      "[('Sid', 'Lo', 'sidbet@gmail.com')]\n"
     ]
    }
   ],
   "source": [
    "# WHERE clause\n",
    "conn = sqlite3.connect('customer.db')\n",
    "c = conn.cursor()\n",
    "c.execute(\"\"\"SELECT * FROM cusomters WHERE lastName = 'Lo' \"\"\") # For number use like \"WHERE age > 12\"'\n",
    "print(c.fetchall())\n",
    "conn.commit()\n",
    "conn.close()"
   ]
  },
  {
   "cell_type": "code",
   "execution_count": 58,
   "id": "5d5d0d1b",
   "metadata": {},
   "outputs": [],
   "source": [
    "# UPDATE clause\n",
    "conn = sqlite3.connect('customer.db')\n",
    "c = conn.cursor()\n",
    "#can also use the primary key or 'rowid' when searching for the lastName\n",
    "c.execute(\"\"\"UPDATE cusomters SET firstName='Boy' WHERE lastName='Lo' \"\"\")\n",
    "\n",
    "conn.commit()\n",
    "conn.close()"
   ]
  },
  {
   "cell_type": "code",
   "execution_count": 75,
   "id": "d3b185a3",
   "metadata": {},
   "outputs": [
    {
     "name": "stdout",
     "output_type": "stream",
     "text": [
      "[('sup', 'man', 'sup@gmail.com'), ('Hello', 'There', 'hello@gmail.com'), ('Boy', 'Lo', 'sidbet@gmail.com')]\n"
     ]
    }
   ],
   "source": [
    "#ORDER BY cause with ASC and DESC\n",
    "conn = sqlite3.connect('customer.db')\n",
    "c = conn.cursor();\n",
    "c.execute(\"\"\"SELECT * FROM cusomters ORDER BY rowid DESC\"\"\")\n",
    "\n",
    "print(c.fetchall()); # Fetches all the rows and columns from the 'cusomters' table from the 'customer' database\n",
    "conn.commit();\n",
    "conn.close();"
   ]
  },
  {
   "cell_type": "code",
   "execution_count": 78,
   "id": "a6b4733a",
   "metadata": {},
   "outputs": [
    {
     "name": "stdout",
     "output_type": "stream",
     "text": [
      "[('Hello', 'There', 'hello@gmail.com'), ('sup', 'man', 'sup@gmail.com')]\n"
     ]
    }
   ],
   "source": [
    "#AND OR cause with ASC and DESC\n",
    "conn = sqlite3.connect('customer.db')\n",
    "c = conn.cursor();\n",
    "c.execute(\"\"\"SELECT * FROM cusomters WHERE firstName='sup' AND lastName='man'\"\"\")\n",
    "\n",
    "c.execute(\"\"\"SELECT * FROM cusomters WHERE firstName='sup' OR firstName='Hello'\"\"\")\n",
    "\n",
    "print(c.fetchall()); # Fetches all the rows and columns from the 'cusomters' table from the 'customer' database\n",
    "conn.commit();\n",
    "conn.close();"
   ]
  },
  {
   "cell_type": "code",
   "execution_count": null,
   "id": "9c21ef7a",
   "metadata": {},
   "outputs": [],
   "source": []
  }
 ],
 "metadata": {
  "kernelspec": {
   "display_name": "Python 3 (ipykernel)",
   "language": "python",
   "name": "python3"
  },
  "language_info": {
   "codemirror_mode": {
    "name": "ipython",
    "version": 3
   },
   "file_extension": ".py",
   "mimetype": "text/x-python",
   "name": "python",
   "nbconvert_exporter": "python",
   "pygments_lexer": "ipython3",
   "version": "3.9.13"
  }
 },
 "nbformat": 4,
 "nbformat_minor": 5
}
