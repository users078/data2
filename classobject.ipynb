{
 "cells": [
  {
   "cell_type": "code",
   "execution_count": 2,
   "id": "5540a27a",
   "metadata": {},
   "outputs": [],
   "source": [
    "class person:\n",
    "    def __init__(self,name):\n",
    "        self.name = name\n",
    "    def printHello(self):\n",
    "        print(\"Hello \" + self.name);\n",
    "    def something(self,number):\n",
    "        return number;"
   ]
  },
  {
   "cell_type": "code",
   "execution_count": 4,
   "id": "03a6e726",
   "metadata": {},
   "outputs": [
    {
     "name": "stdout",
     "output_type": "stream",
     "text": [
      "12\n"
     ]
    }
   ],
   "source": [
    "object = person(\"Bet\");\n",
    "print(object.something(12));"
   ]
  },
  {
   "cell_type": "code",
   "execution_count": null,
   "id": "d103fefc",
   "metadata": {},
   "outputs": [],
   "source": []
  }
 ],
 "metadata": {
  "kernelspec": {
   "display_name": "Python 3 (ipykernel)",
   "language": "python",
   "name": "python3"
  },
  "language_info": {
   "codemirror_mode": {
    "name": "ipython",
    "version": 3
   },
   "file_extension": ".py",
   "mimetype": "text/x-python",
   "name": "python",
   "nbconvert_exporter": "python",
   "pygments_lexer": "ipython3",
   "version": "3.9.13"
  }
 },
 "nbformat": 4,
 "nbformat_minor": 5
}
